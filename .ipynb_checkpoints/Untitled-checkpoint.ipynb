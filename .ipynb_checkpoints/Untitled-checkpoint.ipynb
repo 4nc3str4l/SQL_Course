{
 "cells": [
  {
   "cell_type": "code",
   "execution_count": null,
   "metadata": {
    "collapsed": true
   },
   "outputs": [],
   "source": [
    "passwd = ''"
   ]
  },
  {
   "cell_type": "code",
   "execution_count": 11,
   "metadata": {
    "collapsed": false
   },
   "outputs": [],
   "source": [
    "import psycopg2 as pg2\n",
    "conn = pg2.connect(database='dvdrental', user='postgres', password = passwd)"
   ]
  },
  {
   "cell_type": "code",
   "execution_count": 5,
   "metadata": {
    "collapsed": true
   },
   "outputs": [],
   "source": [
    "cur = conn.cursor()"
   ]
  },
  {
   "cell_type": "code",
   "execution_count": 7,
   "metadata": {
    "collapsed": true
   },
   "outputs": [],
   "source": [
    "cur.execute('SELECT * FROM payment');"
   ]
  },
  {
   "cell_type": "code",
   "execution_count": 9,
   "metadata": {
    "collapsed": false
   },
   "outputs": [
    {
     "data": {
      "text/plain": [
       "(17504,\n",
       " 341,\n",
       " 1,\n",
       " 1778,\n",
       " Decimal('1.99'),\n",
       " datetime.datetime(2007, 2, 16, 17, 23, 14, 996577))"
      ]
     },
     "execution_count": 9,
     "metadata": {},
     "output_type": "execute_result"
    }
   ],
   "source": [
    "cur.fetchone()"
   ]
  },
  {
   "cell_type": "code",
   "execution_count": 10,
   "metadata": {
    "collapsed": false
   },
   "outputs": [
    {
     "data": {
      "text/plain": [
       "[(17505,\n",
       "  341,\n",
       "  1,\n",
       "  1849,\n",
       "  Decimal('7.99'),\n",
       "  datetime.datetime(2007, 2, 16, 22, 41, 45, 996577))]"
      ]
     },
     "execution_count": 10,
     "metadata": {},
     "output_type": "execute_result"
    }
   ],
   "source": [
    "cur.fetchmany()"
   ]
  },
  {
   "cell_type": "code",
   "execution_count": 12,
   "metadata": {
    "collapsed": false
   },
   "outputs": [
    {
     "data": {
      "text/plain": [
       "[(17506,\n",
       "  341,\n",
       "  2,\n",
       "  2829,\n",
       "  Decimal('2.99'),\n",
       "  datetime.datetime(2007, 2, 19, 19, 39, 56, 996577)),\n",
       " (17507,\n",
       "  341,\n",
       "  2,\n",
       "  3130,\n",
       "  Decimal('7.99'),\n",
       "  datetime.datetime(2007, 2, 20, 17, 31, 48, 996577)),\n",
       " (17508,\n",
       "  341,\n",
       "  1,\n",
       "  3382,\n",
       "  Decimal('5.99'),\n",
       "  datetime.datetime(2007, 2, 21, 12, 33, 49, 996577)),\n",
       " (17509,\n",
       "  342,\n",
       "  2,\n",
       "  2190,\n",
       "  Decimal('5.99'),\n",
       "  datetime.datetime(2007, 2, 17, 23, 58, 17, 996577)),\n",
       " (17510,\n",
       "  342,\n",
       "  1,\n",
       "  2914,\n",
       "  Decimal('5.99'),\n",
       "  datetime.datetime(2007, 2, 20, 2, 11, 44, 996577)),\n",
       " (17511,\n",
       "  342,\n",
       "  1,\n",
       "  3081,\n",
       "  Decimal('2.99'),\n",
       "  datetime.datetime(2007, 2, 20, 13, 57, 39, 996577)),\n",
       " (17512,\n",
       "  343,\n",
       "  2,\n",
       "  1547,\n",
       "  Decimal('4.99'),\n",
       "  datetime.datetime(2007, 2, 16, 0, 10, 50, 996577)),\n",
       " (17513,\n",
       "  343,\n",
       "  1,\n",
       "  1564,\n",
       "  Decimal('6.99'),\n",
       "  datetime.datetime(2007, 2, 16, 1, 15, 33, 996577)),\n",
       " (17514,\n",
       "  343,\n",
       "  2,\n",
       "  1879,\n",
       "  Decimal('0.99'),\n",
       "  datetime.datetime(2007, 2, 17, 1, 26, 0, 996577)),\n",
       " (17515,\n",
       "  343,\n",
       "  2,\n",
       "  1922,\n",
       "  Decimal('0.99'),\n",
       "  datetime.datetime(2007, 2, 17, 4, 32, 51, 996577))]"
      ]
     },
     "execution_count": 12,
     "metadata": {},
     "output_type": "execute_result"
    }
   ],
   "source": [
    "cur.fetchmany(10)"
   ]
  },
  {
   "cell_type": "code",
   "execution_count": 14,
   "metadata": {
    "collapsed": false
   },
   "outputs": [
    {
     "data": {
      "text/plain": [
       "(17528,\n",
       " 346,\n",
       " 1,\n",
       " 3421,\n",
       " Decimal('2.99'),\n",
       " datetime.datetime(2007, 2, 21, 15, 51, 24, 996577))"
      ]
     },
     "execution_count": 14,
     "metadata": {},
     "output_type": "execute_result"
    }
   ],
   "source": [
    "data = cur.fetchmany(10)\n",
    "data[2]"
   ]
  },
  {
   "cell_type": "code",
   "execution_count": 15,
   "metadata": {
    "collapsed": true
   },
   "outputs": [],
   "source": [
    "conn.close()"
   ]
  },
  {
   "cell_type": "code",
   "execution_count": null,
   "metadata": {
    "collapsed": true
   },
   "outputs": [],
   "source": []
  }
 ],
 "metadata": {
  "anaconda-cloud": {},
  "kernelspec": {
   "display_name": "Python [Root]",
   "language": "python",
   "name": "Python [Root]"
  },
  "language_info": {
   "codemirror_mode": {
    "name": "ipython",
    "version": 2
   },
   "file_extension": ".py",
   "mimetype": "text/x-python",
   "name": "python",
   "nbconvert_exporter": "python",
   "pygments_lexer": "ipython2",
   "version": "2.7.12"
  }
 },
 "nbformat": 4,
 "nbformat_minor": 0
}
